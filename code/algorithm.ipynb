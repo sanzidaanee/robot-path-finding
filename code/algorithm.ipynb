{
  "nbformat": 4,
  "nbformat_minor": 0,
  "metadata": {
    "colab": {
      "provenance": []
    },
    "kernelspec": {
      "name": "python3",
      "display_name": "Python 3"
    },
    "language_info": {
      "name": "python"
    }
  },
  "cells": [
    {
      "cell_type": "code",
      "execution_count": 1,
      "metadata": {
        "colab": {
          "base_uri": "https://localhost:8080/",
          "height": 108
        },
        "id": "Uqp0ia8X68CV",
        "outputId": "c5e36460-8f03-4637-abbf-6f993e569846"
      },
      "outputs": [
        {
          "output_type": "error",
          "ename": "SyntaxError",
          "evalue": "invalid decimal literal (<ipython-input-1-445413ce2ce2>, line 7)",
          "traceback": [
            "\u001b[0;36m  File \u001b[0;32m\"<ipython-input-1-445413ce2ce2>\"\u001b[0;36m, line \u001b[0;32m7\u001b[0m\n\u001b[0;31m    grid = 2D array of size rows x cols filled with ' '\u001b[0m\n\u001b[0m           ^\u001b[0m\n\u001b[0;31mSyntaxError\u001b[0m\u001b[0;31m:\u001b[0m invalid decimal literal\n"
          ]
        }
      ],
      "source": [
        "#A* Search Pseudocode (Grid, Multiple Goals, Manhattan Distance)\n",
        "\n",
        "\n",
        "function A_Star_Search(rows, cols, start, goals, blocked):\n",
        "\n",
        "    // Step 1: Initialize grid\n",
        "    grid = 2D array of size rows x cols filled with ' '\n",
        "    mark blocked cells as 'X' in grid\n",
        "    mark goal cells as 'G' in grid\n",
        "    mark start cell as 'S' in grid\n",
        "\n",
        "    // Step 2: Prepare data structures\n",
        "    directions = [Up, Down, Left, Right with labels 'U', 'D', 'L', 'R']\n",
        "    openSet = priority queue ordered by f = g + h\n",
        "    g_score = map with start → 0\n",
        "    came_from = empty map to store path info\n",
        "    blocked_set = set(blocked cells)\n",
        "    convert start and goals to tuples\n",
        "\n",
        "    // Step 3: Add start node to open set\n",
        "    h_start = minimum Manhattan distance from start to any goal\n",
        "    push (f = 0 + h_start, g = 0, start) to openSet\n",
        "\n",
        "    // Step 4: Begin A* loop\n",
        "    while openSet is not empty:\n",
        "        (f, g, current) = node with lowest f in openSet\n",
        "\n",
        "        if current is in goals:\n",
        "            return Reconstruct_Path(came_from, start, current, grid)\n",
        "\n",
        "        for each direction in directions:\n",
        "            neighbor = current + direction\n",
        "            if neighbor is outside grid or in blocked_set:\n",
        "                continue\n",
        "\n",
        "            tentative_g = g + 1\n",
        "\n",
        "            if neighbor not in g_score or tentative_g < g_score[neighbor]:\n",
        "                g_score[neighbor] = tentative_g\n",
        "                h = minimum Manhattan distance from neighbor to any goal\n",
        "                f = tentative_g + h\n",
        "                push (f, tentative_g, neighbor) to openSet\n",
        "                came_from[neighbor] = (current, direction_label)\n",
        "\n",
        "    return \"No path found\"\n",
        "\n",
        "function Reconstruct_Path(came_from, start, goal, grid):\n",
        "    path = empty list\n",
        "    current = goal\n",
        "\n",
        "    while current ≠ start:\n",
        "        (prev, move) = came_from[current]\n",
        "        add (prev, current, move) to front of path\n",
        "        current = prev\n",
        "\n",
        "    for (_, (r, c), move) in path:\n",
        "        if grid[r][c] is ' ':\n",
        "            grid[r][c] = move\n",
        "\n",
        "    return (join all move labels as string, updated grid)"
      ]
    }
  ]
}